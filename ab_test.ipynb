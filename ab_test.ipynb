{
 "cells": [
  {
   "cell_type": "markdown",
   "id": "b904eddb-7551-4bdc-842e-d14b1da0100d",
   "metadata": {},
   "source": [
    "# Гипотеза и метрика"
   ]
  },
  {
   "cell_type": "markdown",
   "id": "dacf3df1-e29a-43b7-8cd6-89503ab38458",
   "metadata": {},
   "source": [
    "С введением нового алгоритма клиенты станут покупать больше продуктов, и выручка увеличится.\n",
    "\n",
    "В качестве метрики можно рассмотреть:\n",
    "\n",
    "- Средняя выручка с пользователя. Эта метрика подойдет, потому что в эксперименте группы примерно одинаковые по количеству людей, и увеличение метрики приведет к росту общей выручки.\n",
    "\n",
    "- Средняя выручка с платящего пользователя. Количество платящих пользователей может измениться, и выручка не обязательно увеличится.\n",
    "\n",
    "- Средняя стоимость заказа. Эта метрика не подходит, потому что количество заказов может измениться, и выручка может как уменьшиться, так и увеличиться.\n",
    "\n",
    "- Количество продуктов в корзине. Эта метрика не подходит, потому что стоимость заказа может измениться, и выручка может как уменьшиться, так и увеличиться.\n",
    "\n",
    "- Количество заказов. Эта метрика не подходит, потому что стоимость заказа может измениться, и выручка может как уменьшиться, так и увеличиться."
   ]
  },
  {
   "cell_type": "markdown",
   "id": "bf42ff5b-145e-451f-a7bc-6e3c555438ae",
   "metadata": {},
   "source": [
    "# Предобработка данных"
   ]
  },
  {
   "cell_type": "code",
   "execution_count": 57,
   "id": "77cb52ed-b09d-4cca-b24c-313a7b18a896",
   "metadata": {},
   "outputs": [],
   "source": [
    "import pandas as pd\n",
    "import matplotlib.pyplot as plt\n",
    "import seaborn as sns\n",
    "from scipy.stats import levene\n",
    "from scipy.stats import ttest_ind"
   ]
  },
  {
   "cell_type": "code",
   "execution_count": 58,
   "id": "1c184909-d599-4e72-9da2-de00c8e2b259",
   "metadata": {},
   "outputs": [
    {
     "data": {
      "text/html": [
       "<div>\n",
       "<style scoped>\n",
       "    .dataframe tbody tr th:only-of-type {\n",
       "        vertical-align: middle;\n",
       "    }\n",
       "\n",
       "    .dataframe tbody tr th {\n",
       "        vertical-align: top;\n",
       "    }\n",
       "\n",
       "    .dataframe thead th {\n",
       "        text-align: right;\n",
       "    }\n",
       "</style>\n",
       "<table border=\"1\" class=\"dataframe\">\n",
       "  <thead>\n",
       "    <tr style=\"text-align: right;\">\n",
       "      <th></th>\n",
       "      <th>user_id</th>\n",
       "      <th>gender</th>\n",
       "      <th>age</th>\n",
       "      <th>region</th>\n",
       "    </tr>\n",
       "  </thead>\n",
       "  <tbody>\n",
       "    <tr>\n",
       "      <th>0</th>\n",
       "      <td>1</td>\n",
       "      <td>Ж</td>\n",
       "      <td>23</td>\n",
       "      <td>Краснодарский край</td>\n",
       "    </tr>\n",
       "    <tr>\n",
       "      <th>1</th>\n",
       "      <td>2</td>\n",
       "      <td>Ж</td>\n",
       "      <td>43</td>\n",
       "      <td>Краснодарский край</td>\n",
       "    </tr>\n",
       "    <tr>\n",
       "      <th>2</th>\n",
       "      <td>3</td>\n",
       "      <td>М</td>\n",
       "      <td>36</td>\n",
       "      <td>Краснодарский край</td>\n",
       "    </tr>\n",
       "    <tr>\n",
       "      <th>3</th>\n",
       "      <td>4</td>\n",
       "      <td>Ж</td>\n",
       "      <td>39</td>\n",
       "      <td>Краснодарский край</td>\n",
       "    </tr>\n",
       "    <tr>\n",
       "      <th>4</th>\n",
       "      <td>5</td>\n",
       "      <td>М</td>\n",
       "      <td>43</td>\n",
       "      <td>Иркутская область</td>\n",
       "    </tr>\n",
       "    <tr>\n",
       "      <th>...</th>\n",
       "      <td>...</td>\n",
       "      <td>...</td>\n",
       "      <td>...</td>\n",
       "      <td>...</td>\n",
       "    </tr>\n",
       "    <tr>\n",
       "      <th>14995</th>\n",
       "      <td>14996</td>\n",
       "      <td>М</td>\n",
       "      <td>41</td>\n",
       "      <td>Нижегородская область</td>\n",
       "    </tr>\n",
       "    <tr>\n",
       "      <th>14996</th>\n",
       "      <td>14997</td>\n",
       "      <td>Ж</td>\n",
       "      <td>30</td>\n",
       "      <td>Астраханская область</td>\n",
       "    </tr>\n",
       "    <tr>\n",
       "      <th>14997</th>\n",
       "      <td>14998</td>\n",
       "      <td>М</td>\n",
       "      <td>26</td>\n",
       "      <td>Краснодарский край</td>\n",
       "    </tr>\n",
       "    <tr>\n",
       "      <th>14998</th>\n",
       "      <td>14999</td>\n",
       "      <td>М</td>\n",
       "      <td>36</td>\n",
       "      <td>Оренбургская область</td>\n",
       "    </tr>\n",
       "    <tr>\n",
       "      <th>14999</th>\n",
       "      <td>15000</td>\n",
       "      <td>Ж</td>\n",
       "      <td>34</td>\n",
       "      <td>Республика Адыгея</td>\n",
       "    </tr>\n",
       "  </tbody>\n",
       "</table>\n",
       "<p>15000 rows × 4 columns</p>\n",
       "</div>"
      ],
      "text/plain": [
       "       user_id gender  age                 region\n",
       "0            1      Ж   23     Краснодарский край\n",
       "1            2      Ж   43     Краснодарский край\n",
       "2            3      М   36     Краснодарский край\n",
       "3            4      Ж   39     Краснодарский край\n",
       "4            5      М   43      Иркутская область\n",
       "...        ...    ...  ...                    ...\n",
       "14995    14996      М   41  Нижегородская область\n",
       "14996    14997      Ж   30   Астраханская область\n",
       "14997    14998      М   26     Краснодарский край\n",
       "14998    14999      М   36   Оренбургская область\n",
       "14999    15000      Ж   34      Республика Адыгея\n",
       "\n",
       "[15000 rows x 4 columns]"
      ]
     },
     "execution_count": 58,
     "metadata": {},
     "output_type": "execute_result"
    }
   ],
   "source": [
    "user = pd.read_csv('user.csv')\n",
    "user"
   ]
  },
  {
   "cell_type": "code",
   "execution_count": 59,
   "id": "28181624-6b2b-4d1f-8765-0eb419c86e0b",
   "metadata": {},
   "outputs": [
    {
     "data": {
      "text/html": [
       "<div>\n",
       "<style scoped>\n",
       "    .dataframe tbody tr th:only-of-type {\n",
       "        vertical-align: middle;\n",
       "    }\n",
       "\n",
       "    .dataframe tbody tr th {\n",
       "        vertical-align: top;\n",
       "    }\n",
       "\n",
       "    .dataframe thead th {\n",
       "        text-align: right;\n",
       "    }\n",
       "</style>\n",
       "<table border=\"1\" class=\"dataframe\">\n",
       "  <thead>\n",
       "    <tr style=\"text-align: right;\">\n",
       "      <th></th>\n",
       "      <th>user_id</th>\n",
       "      <th>group</th>\n",
       "    </tr>\n",
       "  </thead>\n",
       "  <tbody>\n",
       "    <tr>\n",
       "      <th>0</th>\n",
       "      <td>5034</td>\n",
       "      <td>treatment</td>\n",
       "    </tr>\n",
       "    <tr>\n",
       "      <th>1</th>\n",
       "      <td>4725</td>\n",
       "      <td>treatment</td>\n",
       "    </tr>\n",
       "    <tr>\n",
       "      <th>2</th>\n",
       "      <td>911</td>\n",
       "      <td>treatment</td>\n",
       "    </tr>\n",
       "    <tr>\n",
       "      <th>3</th>\n",
       "      <td>13267</td>\n",
       "      <td>control</td>\n",
       "    </tr>\n",
       "    <tr>\n",
       "      <th>4</th>\n",
       "      <td>5636</td>\n",
       "      <td>control</td>\n",
       "    </tr>\n",
       "    <tr>\n",
       "      <th>...</th>\n",
       "      <td>...</td>\n",
       "      <td>...</td>\n",
       "    </tr>\n",
       "    <tr>\n",
       "      <th>11910</th>\n",
       "      <td>7599</td>\n",
       "      <td>control</td>\n",
       "    </tr>\n",
       "    <tr>\n",
       "      <th>11911</th>\n",
       "      <td>11476</td>\n",
       "      <td>treatment</td>\n",
       "    </tr>\n",
       "    <tr>\n",
       "      <th>11912</th>\n",
       "      <td>805</td>\n",
       "      <td>treatment</td>\n",
       "    </tr>\n",
       "    <tr>\n",
       "      <th>11913</th>\n",
       "      <td>1743</td>\n",
       "      <td>treatment</td>\n",
       "    </tr>\n",
       "    <tr>\n",
       "      <th>11914</th>\n",
       "      <td>3400</td>\n",
       "      <td>control</td>\n",
       "    </tr>\n",
       "  </tbody>\n",
       "</table>\n",
       "<p>11915 rows × 2 columns</p>\n",
       "</div>"
      ],
      "text/plain": [
       "       user_id      group\n",
       "0         5034  treatment\n",
       "1         4725  treatment\n",
       "2          911  treatment\n",
       "3        13267    control\n",
       "4         5636    control\n",
       "...        ...        ...\n",
       "11910     7599    control\n",
       "11911    11476  treatment\n",
       "11912      805  treatment\n",
       "11913     1743  treatment\n",
       "11914     3400    control\n",
       "\n",
       "[11915 rows x 2 columns]"
      ]
     },
     "execution_count": 59,
     "metadata": {},
     "output_type": "execute_result"
    }
   ],
   "source": [
    "user_ab_group = pd.read_csv('user_ab_group.csv')\n",
    "user_ab_group"
   ]
  },
  {
   "cell_type": "code",
   "execution_count": 60,
   "id": "28a2c0b8-958f-4eb8-bea0-99a1d258377e",
   "metadata": {},
   "outputs": [
    {
     "data": {
      "text/html": [
       "<div>\n",
       "<style scoped>\n",
       "    .dataframe tbody tr th:only-of-type {\n",
       "        vertical-align: middle;\n",
       "    }\n",
       "\n",
       "    .dataframe tbody tr th {\n",
       "        vertical-align: top;\n",
       "    }\n",
       "\n",
       "    .dataframe thead th {\n",
       "        text-align: right;\n",
       "    }\n",
       "</style>\n",
       "<table border=\"1\" class=\"dataframe\">\n",
       "  <thead>\n",
       "    <tr style=\"text-align: right;\">\n",
       "      <th></th>\n",
       "      <th>id</th>\n",
       "      <th>good_name</th>\n",
       "      <th>price_per_unit</th>\n",
       "    </tr>\n",
       "  </thead>\n",
       "  <tbody>\n",
       "    <tr>\n",
       "      <th>0</th>\n",
       "      <td>1</td>\n",
       "      <td>Органический авокадо</td>\n",
       "      <td>336</td>\n",
       "    </tr>\n",
       "    <tr>\n",
       "      <th>1</th>\n",
       "      <td>2</td>\n",
       "      <td>Льняные семена</td>\n",
       "      <td>796</td>\n",
       "    </tr>\n",
       "    <tr>\n",
       "      <th>2</th>\n",
       "      <td>3</td>\n",
       "      <td>Кокосовое масло Extra Virgin</td>\n",
       "      <td>558</td>\n",
       "    </tr>\n",
       "    <tr>\n",
       "      <th>3</th>\n",
       "      <td>4</td>\n",
       "      <td>Гречка цельнозерновая</td>\n",
       "      <td>484</td>\n",
       "    </tr>\n",
       "    <tr>\n",
       "      <th>4</th>\n",
       "      <td>5</td>\n",
       "      <td>Лосось дикого копчения</td>\n",
       "      <td>480</td>\n",
       "    </tr>\n",
       "    <tr>\n",
       "      <th>...</th>\n",
       "      <td>...</td>\n",
       "      <td>...</td>\n",
       "      <td>...</td>\n",
       "    </tr>\n",
       "    <tr>\n",
       "      <th>95</th>\n",
       "      <td>96</td>\n",
       "      <td>Органическая кокосовая мука</td>\n",
       "      <td>616</td>\n",
       "    </tr>\n",
       "    <tr>\n",
       "      <th>96</th>\n",
       "      <td>97</td>\n",
       "      <td>Семена чиа в меде</td>\n",
       "      <td>379</td>\n",
       "    </tr>\n",
       "    <tr>\n",
       "      <th>97</th>\n",
       "      <td>98</td>\n",
       "      <td>Кардамон органический</td>\n",
       "      <td>459</td>\n",
       "    </tr>\n",
       "    <tr>\n",
       "      <th>98</th>\n",
       "      <td>99</td>\n",
       "      <td>Куркума в порошке</td>\n",
       "      <td>647</td>\n",
       "    </tr>\n",
       "    <tr>\n",
       "      <th>99</th>\n",
       "      <td>100</td>\n",
       "      <td>Белый чай в листьях</td>\n",
       "      <td>472</td>\n",
       "    </tr>\n",
       "  </tbody>\n",
       "</table>\n",
       "<p>100 rows × 3 columns</p>\n",
       "</div>"
      ],
      "text/plain": [
       "     id                     good_name  price_per_unit\n",
       "0     1          Органический авокадо             336\n",
       "1     2                Льняные семена             796\n",
       "2     3  Кокосовое масло Extra Virgin             558\n",
       "3     4         Гречка цельнозерновая             484\n",
       "4     5        Лосось дикого копчения             480\n",
       "..  ...                           ...             ...\n",
       "95   96   Органическая кокосовая мука             616\n",
       "96   97             Семена чиа в меде             379\n",
       "97   98         Кардамон органический             459\n",
       "98   99             Куркума в порошке             647\n",
       "99  100           Белый чай в листьях             472\n",
       "\n",
       "[100 rows x 3 columns]"
      ]
     },
     "execution_count": 60,
     "metadata": {},
     "output_type": "execute_result"
    }
   ],
   "source": [
    "good = pd.read_csv('good.csv')\n",
    "good"
   ]
  },
  {
   "cell_type": "code",
   "execution_count": 61,
   "id": "50100dee-5daf-4911-b240-6b6e00091eb5",
   "metadata": {},
   "outputs": [
    {
     "data": {
      "text/html": [
       "<div>\n",
       "<style scoped>\n",
       "    .dataframe tbody tr th:only-of-type {\n",
       "        vertical-align: middle;\n",
       "    }\n",
       "\n",
       "    .dataframe tbody tr th {\n",
       "        vertical-align: top;\n",
       "    }\n",
       "\n",
       "    .dataframe thead th {\n",
       "        text-align: right;\n",
       "    }\n",
       "</style>\n",
       "<table border=\"1\" class=\"dataframe\">\n",
       "  <thead>\n",
       "    <tr style=\"text-align: right;\">\n",
       "      <th></th>\n",
       "      <th>id</th>\n",
       "      <th>user_id</th>\n",
       "      <th>date_time</th>\n",
       "    </tr>\n",
       "  </thead>\n",
       "  <tbody>\n",
       "    <tr>\n",
       "      <th>0</th>\n",
       "      <td>1</td>\n",
       "      <td>5784</td>\n",
       "      <td>2023-09-20 00:01:07</td>\n",
       "    </tr>\n",
       "    <tr>\n",
       "      <th>1</th>\n",
       "      <td>2</td>\n",
       "      <td>4468</td>\n",
       "      <td>2023-09-20 00:04:18</td>\n",
       "    </tr>\n",
       "    <tr>\n",
       "      <th>2</th>\n",
       "      <td>3</td>\n",
       "      <td>3827</td>\n",
       "      <td>2023-09-20 00:04:35</td>\n",
       "    </tr>\n",
       "    <tr>\n",
       "      <th>3</th>\n",
       "      <td>4</td>\n",
       "      <td>3272</td>\n",
       "      <td>2023-09-20 00:06:32</td>\n",
       "    </tr>\n",
       "    <tr>\n",
       "      <th>4</th>\n",
       "      <td>5</td>\n",
       "      <td>9461</td>\n",
       "      <td>2023-09-20 00:08:24</td>\n",
       "    </tr>\n",
       "    <tr>\n",
       "      <th>...</th>\n",
       "      <td>...</td>\n",
       "      <td>...</td>\n",
       "      <td>...</td>\n",
       "    </tr>\n",
       "    <tr>\n",
       "      <th>74946</th>\n",
       "      <td>74947</td>\n",
       "      <td>5634</td>\n",
       "      <td>2023-11-28 23:52:18</td>\n",
       "    </tr>\n",
       "    <tr>\n",
       "      <th>74947</th>\n",
       "      <td>74948</td>\n",
       "      <td>5318</td>\n",
       "      <td>2023-11-28 23:54:22</td>\n",
       "    </tr>\n",
       "    <tr>\n",
       "      <th>74948</th>\n",
       "      <td>74949</td>\n",
       "      <td>14345</td>\n",
       "      <td>2023-11-28 23:55:03</td>\n",
       "    </tr>\n",
       "    <tr>\n",
       "      <th>74949</th>\n",
       "      <td>74950</td>\n",
       "      <td>795</td>\n",
       "      <td>2023-11-28 23:57:06</td>\n",
       "    </tr>\n",
       "    <tr>\n",
       "      <th>74950</th>\n",
       "      <td>74951</td>\n",
       "      <td>13682</td>\n",
       "      <td>2023-11-28 23:57:51</td>\n",
       "    </tr>\n",
       "  </tbody>\n",
       "</table>\n",
       "<p>74951 rows × 3 columns</p>\n",
       "</div>"
      ],
      "text/plain": [
       "          id  user_id            date_time\n",
       "0          1     5784  2023-09-20 00:01:07\n",
       "1          2     4468  2023-09-20 00:04:18\n",
       "2          3     3827  2023-09-20 00:04:35\n",
       "3          4     3272  2023-09-20 00:06:32\n",
       "4          5     9461  2023-09-20 00:08:24\n",
       "...      ...      ...                  ...\n",
       "74946  74947     5634  2023-11-28 23:52:18\n",
       "74947  74948     5318  2023-11-28 23:54:22\n",
       "74948  74949    14345  2023-11-28 23:55:03\n",
       "74949  74950      795  2023-11-28 23:57:06\n",
       "74950  74951    13682  2023-11-28 23:57:51\n",
       "\n",
       "[74951 rows x 3 columns]"
      ]
     },
     "execution_count": 61,
     "metadata": {},
     "output_type": "execute_result"
    }
   ],
   "source": [
    "user_purchase = pd.read_csv('user_purchase.csv')\n",
    "user_purchase"
   ]
  },
  {
   "cell_type": "code",
   "execution_count": 62,
   "id": "b7acec3e-61de-496f-a8b5-f5bc27799718",
   "metadata": {},
   "outputs": [
    {
     "data": {
      "text/html": [
       "<div>\n",
       "<style scoped>\n",
       "    .dataframe tbody tr th:only-of-type {\n",
       "        vertical-align: middle;\n",
       "    }\n",
       "\n",
       "    .dataframe tbody tr th {\n",
       "        vertical-align: top;\n",
       "    }\n",
       "\n",
       "    .dataframe thead th {\n",
       "        text-align: right;\n",
       "    }\n",
       "</style>\n",
       "<table border=\"1\" class=\"dataframe\">\n",
       "  <thead>\n",
       "    <tr style=\"text-align: right;\">\n",
       "      <th></th>\n",
       "      <th>purchase_id</th>\n",
       "      <th>good_id</th>\n",
       "      <th>amount</th>\n",
       "      <th>was_in_recommended_goods</th>\n",
       "    </tr>\n",
       "  </thead>\n",
       "  <tbody>\n",
       "    <tr>\n",
       "      <th>0</th>\n",
       "      <td>15495</td>\n",
       "      <td>34</td>\n",
       "      <td>2</td>\n",
       "      <td>False</td>\n",
       "    </tr>\n",
       "    <tr>\n",
       "      <th>1</th>\n",
       "      <td>42640</td>\n",
       "      <td>48</td>\n",
       "      <td>1</td>\n",
       "      <td>False</td>\n",
       "    </tr>\n",
       "    <tr>\n",
       "      <th>2</th>\n",
       "      <td>42640</td>\n",
       "      <td>36</td>\n",
       "      <td>1</td>\n",
       "      <td>False</td>\n",
       "    </tr>\n",
       "    <tr>\n",
       "      <th>3</th>\n",
       "      <td>42640</td>\n",
       "      <td>12</td>\n",
       "      <td>2</td>\n",
       "      <td>True</td>\n",
       "    </tr>\n",
       "    <tr>\n",
       "      <th>4</th>\n",
       "      <td>42640</td>\n",
       "      <td>35</td>\n",
       "      <td>1</td>\n",
       "      <td>True</td>\n",
       "    </tr>\n",
       "    <tr>\n",
       "      <th>...</th>\n",
       "      <td>...</td>\n",
       "      <td>...</td>\n",
       "      <td>...</td>\n",
       "      <td>...</td>\n",
       "    </tr>\n",
       "    <tr>\n",
       "      <th>352052</th>\n",
       "      <td>53057</td>\n",
       "      <td>54</td>\n",
       "      <td>1</td>\n",
       "      <td>False</td>\n",
       "    </tr>\n",
       "    <tr>\n",
       "      <th>352053</th>\n",
       "      <td>72053</td>\n",
       "      <td>37</td>\n",
       "      <td>1</td>\n",
       "      <td>False</td>\n",
       "    </tr>\n",
       "    <tr>\n",
       "      <th>352054</th>\n",
       "      <td>72053</td>\n",
       "      <td>7</td>\n",
       "      <td>1</td>\n",
       "      <td>False</td>\n",
       "    </tr>\n",
       "    <tr>\n",
       "      <th>352055</th>\n",
       "      <td>72053</td>\n",
       "      <td>24</td>\n",
       "      <td>1</td>\n",
       "      <td>True</td>\n",
       "    </tr>\n",
       "    <tr>\n",
       "      <th>352056</th>\n",
       "      <td>72053</td>\n",
       "      <td>50</td>\n",
       "      <td>1</td>\n",
       "      <td>False</td>\n",
       "    </tr>\n",
       "  </tbody>\n",
       "</table>\n",
       "<p>352057 rows × 4 columns</p>\n",
       "</div>"
      ],
      "text/plain": [
       "        purchase_id  good_id  amount  was_in_recommended_goods\n",
       "0             15495       34       2                     False\n",
       "1             42640       48       1                     False\n",
       "2             42640       36       1                     False\n",
       "3             42640       12       2                      True\n",
       "4             42640       35       1                      True\n",
       "...             ...      ...     ...                       ...\n",
       "352052        53057       54       1                     False\n",
       "352053        72053       37       1                     False\n",
       "352054        72053        7       1                     False\n",
       "352055        72053       24       1                      True\n",
       "352056        72053       50       1                     False\n",
       "\n",
       "[352057 rows x 4 columns]"
      ]
     },
     "execution_count": 62,
     "metadata": {},
     "output_type": "execute_result"
    }
   ],
   "source": [
    "purchase_good = pd.read_csv('purchase_good.csv')\n",
    "purchase_good"
   ]
  },
  {
   "cell_type": "code",
   "execution_count": 63,
   "id": "a0fd8edb-d6fc-40d6-bc01-eabf926f9d2e",
   "metadata": {},
   "outputs": [],
   "source": [
    "df = pd.merge(pd.merge(pd.merge(pd.merge(user, user_ab_group, on = 'user_id', how = 'inner'), user_purchase, on = 'user_id', how = 'inner'), \\\n",
    "         purchase_good, left_on = 'id', right_on = 'purchase_id', how = 'inner'), good, left_on = 'good_id', right_on = 'id', how = 'inner')"
   ]
  },
  {
   "cell_type": "code",
   "execution_count": 64,
   "id": "9394505d-af96-4bf0-8a3a-5a66793e739c",
   "metadata": {},
   "outputs": [
    {
     "data": {
      "text/html": [
       "<div>\n",
       "<style scoped>\n",
       "    .dataframe tbody tr th:only-of-type {\n",
       "        vertical-align: middle;\n",
       "    }\n",
       "\n",
       "    .dataframe tbody tr th {\n",
       "        vertical-align: top;\n",
       "    }\n",
       "\n",
       "    .dataframe thead th {\n",
       "        text-align: right;\n",
       "    }\n",
       "</style>\n",
       "<table border=\"1\" class=\"dataframe\">\n",
       "  <thead>\n",
       "    <tr style=\"text-align: right;\">\n",
       "      <th></th>\n",
       "      <th>user_id</th>\n",
       "      <th>gender</th>\n",
       "      <th>age</th>\n",
       "      <th>region</th>\n",
       "      <th>group</th>\n",
       "      <th>id_x</th>\n",
       "      <th>date_time</th>\n",
       "      <th>purchase_id</th>\n",
       "      <th>good_id</th>\n",
       "      <th>amount</th>\n",
       "      <th>was_in_recommended_goods</th>\n",
       "      <th>id_y</th>\n",
       "      <th>good_name</th>\n",
       "      <th>price_per_unit</th>\n",
       "    </tr>\n",
       "  </thead>\n",
       "  <tbody>\n",
       "    <tr>\n",
       "      <th>0</th>\n",
       "      <td>1</td>\n",
       "      <td>Ж</td>\n",
       "      <td>23</td>\n",
       "      <td>Краснодарский край</td>\n",
       "      <td>control</td>\n",
       "      <td>15495</td>\n",
       "      <td>2023-10-04 10:11:52</td>\n",
       "      <td>15495</td>\n",
       "      <td>34</td>\n",
       "      <td>2</td>\n",
       "      <td>False</td>\n",
       "      <td>34</td>\n",
       "      <td>Кишмиш-жмых</td>\n",
       "      <td>464</td>\n",
       "    </tr>\n",
       "    <tr>\n",
       "      <th>1</th>\n",
       "      <td>1</td>\n",
       "      <td>Ж</td>\n",
       "      <td>23</td>\n",
       "      <td>Краснодарский край</td>\n",
       "      <td>control</td>\n",
       "      <td>42640</td>\n",
       "      <td>2023-10-29 20:22:25</td>\n",
       "      <td>42640</td>\n",
       "      <td>48</td>\n",
       "      <td>1</td>\n",
       "      <td>False</td>\n",
       "      <td>48</td>\n",
       "      <td>Спаржа свежая</td>\n",
       "      <td>584</td>\n",
       "    </tr>\n",
       "    <tr>\n",
       "      <th>2</th>\n",
       "      <td>1</td>\n",
       "      <td>Ж</td>\n",
       "      <td>23</td>\n",
       "      <td>Краснодарский край</td>\n",
       "      <td>control</td>\n",
       "      <td>42640</td>\n",
       "      <td>2023-10-29 20:22:25</td>\n",
       "      <td>42640</td>\n",
       "      <td>36</td>\n",
       "      <td>1</td>\n",
       "      <td>False</td>\n",
       "      <td>36</td>\n",
       "      <td>Льняные хлопья</td>\n",
       "      <td>404</td>\n",
       "    </tr>\n",
       "    <tr>\n",
       "      <th>3</th>\n",
       "      <td>1</td>\n",
       "      <td>Ж</td>\n",
       "      <td>23</td>\n",
       "      <td>Краснодарский край</td>\n",
       "      <td>control</td>\n",
       "      <td>42640</td>\n",
       "      <td>2023-10-29 20:22:25</td>\n",
       "      <td>42640</td>\n",
       "      <td>12</td>\n",
       "      <td>2</td>\n",
       "      <td>True</td>\n",
       "      <td>12</td>\n",
       "      <td>Льняное масло холодного отжима</td>\n",
       "      <td>495</td>\n",
       "    </tr>\n",
       "    <tr>\n",
       "      <th>4</th>\n",
       "      <td>1</td>\n",
       "      <td>Ж</td>\n",
       "      <td>23</td>\n",
       "      <td>Краснодарский край</td>\n",
       "      <td>control</td>\n",
       "      <td>42640</td>\n",
       "      <td>2023-10-29 20:22:25</td>\n",
       "      <td>42640</td>\n",
       "      <td>35</td>\n",
       "      <td>1</td>\n",
       "      <td>True</td>\n",
       "      <td>35</td>\n",
       "      <td>Семена чиа в желе</td>\n",
       "      <td>618</td>\n",
       "    </tr>\n",
       "  </tbody>\n",
       "</table>\n",
       "</div>"
      ],
      "text/plain": [
       "   user_id gender  age              region    group   id_x  \\\n",
       "0        1      Ж   23  Краснодарский край  control  15495   \n",
       "1        1      Ж   23  Краснодарский край  control  42640   \n",
       "2        1      Ж   23  Краснодарский край  control  42640   \n",
       "3        1      Ж   23  Краснодарский край  control  42640   \n",
       "4        1      Ж   23  Краснодарский край  control  42640   \n",
       "\n",
       "             date_time  purchase_id  good_id  amount  \\\n",
       "0  2023-10-04 10:11:52        15495       34       2   \n",
       "1  2023-10-29 20:22:25        42640       48       1   \n",
       "2  2023-10-29 20:22:25        42640       36       1   \n",
       "3  2023-10-29 20:22:25        42640       12       2   \n",
       "4  2023-10-29 20:22:25        42640       35       1   \n",
       "\n",
       "   was_in_recommended_goods  id_y                       good_name  \\\n",
       "0                     False    34                     Кишмиш-жмых   \n",
       "1                     False    48                   Спаржа свежая   \n",
       "2                     False    36                  Льняные хлопья   \n",
       "3                      True    12  Льняное масло холодного отжима   \n",
       "4                      True    35               Семена чиа в желе   \n",
       "\n",
       "   price_per_unit  \n",
       "0             464  \n",
       "1             584  \n",
       "2             404  \n",
       "3             495  \n",
       "4             618  "
      ]
     },
     "execution_count": 64,
     "metadata": {},
     "output_type": "execute_result"
    }
   ],
   "source": [
    "df.head()"
   ]
  },
  {
   "cell_type": "markdown",
   "id": "0566d210-932d-4cef-9ed3-2c54382f9f6d",
   "metadata": {},
   "source": [
    "Итак, в этой таблице вся информация о покупках. Столбцы id_x, id_y не несут новой информации, так как имеются уже столбцы purchase_id и good_id, поэтому их можно удалить."
   ]
  },
  {
   "cell_type": "code",
   "execution_count": 65,
   "id": "e3d2e985-a3e1-4105-858b-74432c0a11ae",
   "metadata": {},
   "outputs": [],
   "source": [
    "df.drop(['id_x', 'id_y'], axis = 1, inplace = True)"
   ]
  },
  {
   "cell_type": "markdown",
   "id": "66a92f0f-2249-4d04-800e-65704dc8d766",
   "metadata": {},
   "source": [
    "## Преобразование характеристик"
   ]
  },
  {
   "cell_type": "code",
   "execution_count": 66,
   "id": "62e63a0b-ccb2-418a-9350-0c0a0c2d3e61",
   "metadata": {},
   "outputs": [
    {
     "name": "stdout",
     "output_type": "stream",
     "text": [
      "<class 'pandas.core.frame.DataFrame'>\n",
      "RangeIndex: 284372 entries, 0 to 284371\n",
      "Data columns (total 12 columns):\n",
      " #   Column                    Non-Null Count   Dtype \n",
      "---  ------                    --------------   ----- \n",
      " 0   user_id                   284372 non-null  int64 \n",
      " 1   gender                    284372 non-null  object\n",
      " 2   age                       284372 non-null  int64 \n",
      " 3   region                    284372 non-null  object\n",
      " 4   group                     284372 non-null  object\n",
      " 5   date_time                 284372 non-null  object\n",
      " 6   purchase_id               284372 non-null  int64 \n",
      " 7   good_id                   284372 non-null  int64 \n",
      " 8   amount                    284372 non-null  int64 \n",
      " 9   was_in_recommended_goods  284372 non-null  bool  \n",
      " 10  good_name                 284372 non-null  object\n",
      " 11  price_per_unit            284372 non-null  int64 \n",
      "dtypes: bool(1), int64(6), object(5)\n",
      "memory usage: 24.1+ MB\n"
     ]
    }
   ],
   "source": [
    "df.info()"
   ]
  },
  {
   "cell_type": "code",
   "execution_count": 67,
   "id": "84b5a3e4-b6b5-4aa8-a8a9-2e8d4f15c971",
   "metadata": {},
   "outputs": [],
   "source": [
    "df['gender'] = df['gender'].astype('category')\n",
    "df['region'] = df['region'].astype('category')\n",
    "df['group'] = df['group'].astype('category')\n",
    "df['group'] = df['group'].astype('category')\n",
    "df['good_name'] = df['good_name'].astype('category')\n",
    "df['date_time'] = pd.to_datetime(df['date_time'], format = '%Y-%m-%d %H:%M:%S')"
   ]
  },
  {
   "cell_type": "code",
   "execution_count": 68,
   "id": "c3122ab3-8f2e-4fd1-b49a-1e94dfd73a0f",
   "metadata": {},
   "outputs": [
    {
     "name": "stdout",
     "output_type": "stream",
     "text": [
      "<class 'pandas.core.frame.DataFrame'>\n",
      "RangeIndex: 284372 entries, 0 to 284371\n",
      "Data columns (total 12 columns):\n",
      " #   Column                    Non-Null Count   Dtype         \n",
      "---  ------                    --------------   -----         \n",
      " 0   user_id                   284372 non-null  int64         \n",
      " 1   gender                    284372 non-null  category      \n",
      " 2   age                       284372 non-null  int64         \n",
      " 3   region                    284372 non-null  category      \n",
      " 4   group                     284372 non-null  category      \n",
      " 5   date_time                 284372 non-null  datetime64[ns]\n",
      " 6   purchase_id               284372 non-null  int64         \n",
      " 7   good_id                   284372 non-null  int64         \n",
      " 8   amount                    284372 non-null  int64         \n",
      " 9   was_in_recommended_goods  284372 non-null  bool          \n",
      " 10  good_name                 284372 non-null  category      \n",
      " 11  price_per_unit            284372 non-null  int64         \n",
      "dtypes: bool(1), category(4), datetime64[ns](1), int64(6)\n",
      "memory usage: 16.5 MB\n"
     ]
    }
   ],
   "source": [
    "df.info()"
   ]
  },
  {
   "cell_type": "code",
   "execution_count": 69,
   "id": "d6c7d37b-0794-430a-b743-1885b30b5f85",
   "metadata": {},
   "outputs": [],
   "source": [
    "df['cost'] = df['amount'] * df['price_per_unit']"
   ]
  },
  {
   "cell_type": "markdown",
   "id": "686b53ee-95cc-4945-b2ce-118770ba30e8",
   "metadata": {},
   "source": [
    "## Знакомство с данными"
   ]
  },
  {
   "cell_type": "code",
   "execution_count": 70,
   "id": "f21e5bc6-2766-483f-b4d8-58ec53572e5f",
   "metadata": {},
   "outputs": [
    {
     "data": {
      "text/html": [
       "<div>\n",
       "<style scoped>\n",
       "    .dataframe tbody tr th:only-of-type {\n",
       "        vertical-align: middle;\n",
       "    }\n",
       "\n",
       "    .dataframe tbody tr th {\n",
       "        vertical-align: top;\n",
       "    }\n",
       "\n",
       "    .dataframe thead th {\n",
       "        text-align: right;\n",
       "    }\n",
       "</style>\n",
       "<table border=\"1\" class=\"dataframe\">\n",
       "  <thead>\n",
       "    <tr style=\"text-align: right;\">\n",
       "      <th></th>\n",
       "      <th>user_id</th>\n",
       "      <th>age</th>\n",
       "      <th>date_time</th>\n",
       "      <th>purchase_id</th>\n",
       "      <th>good_id</th>\n",
       "      <th>amount</th>\n",
       "      <th>price_per_unit</th>\n",
       "      <th>cost</th>\n",
       "    </tr>\n",
       "  </thead>\n",
       "  <tbody>\n",
       "    <tr>\n",
       "      <th>count</th>\n",
       "      <td>284372.000000</td>\n",
       "      <td>284372.000000</td>\n",
       "      <td>284372</td>\n",
       "      <td>284372.000000</td>\n",
       "      <td>284372.000000</td>\n",
       "      <td>284372.000000</td>\n",
       "      <td>284372.000000</td>\n",
       "      <td>284372.000000</td>\n",
       "    </tr>\n",
       "    <tr>\n",
       "      <th>mean</th>\n",
       "      <td>7456.357388</td>\n",
       "      <td>34.441988</td>\n",
       "      <td>2023-10-23 20:11:52.854613504</td>\n",
       "      <td>36253.423055</td>\n",
       "      <td>51.029845</td>\n",
       "      <td>1.182156</td>\n",
       "      <td>504.041076</td>\n",
       "      <td>595.911535</td>\n",
       "    </tr>\n",
       "    <tr>\n",
       "      <th>min</th>\n",
       "      <td>1.000000</td>\n",
       "      <td>14.000000</td>\n",
       "      <td>2023-09-20 00:04:18</td>\n",
       "      <td>2.000000</td>\n",
       "      <td>1.000000</td>\n",
       "      <td>1.000000</td>\n",
       "      <td>299.000000</td>\n",
       "      <td>299.000000</td>\n",
       "    </tr>\n",
       "    <tr>\n",
       "      <th>25%</th>\n",
       "      <td>3732.000000</td>\n",
       "      <td>31.000000</td>\n",
       "      <td>2023-10-06 17:30:01</td>\n",
       "      <td>17824.000000</td>\n",
       "      <td>27.000000</td>\n",
       "      <td>1.000000</td>\n",
       "      <td>432.000000</td>\n",
       "      <td>450.000000</td>\n",
       "    </tr>\n",
       "    <tr>\n",
       "      <th>50%</th>\n",
       "      <td>7473.000000</td>\n",
       "      <td>34.000000</td>\n",
       "      <td>2023-10-22 11:39:34</td>\n",
       "      <td>34769.500000</td>\n",
       "      <td>51.000000</td>\n",
       "      <td>1.000000</td>\n",
       "      <td>495.000000</td>\n",
       "      <td>535.000000</td>\n",
       "    </tr>\n",
       "    <tr>\n",
       "      <th>75%</th>\n",
       "      <td>11155.000000</td>\n",
       "      <td>38.000000</td>\n",
       "      <td>2023-11-10 05:39:27</td>\n",
       "      <td>54879.000000</td>\n",
       "      <td>75.000000</td>\n",
       "      <td>1.000000</td>\n",
       "      <td>574.000000</td>\n",
       "      <td>630.000000</td>\n",
       "    </tr>\n",
       "    <tr>\n",
       "      <th>max</th>\n",
       "      <td>15000.000000</td>\n",
       "      <td>58.000000</td>\n",
       "      <td>2023-11-28 23:57:06</td>\n",
       "      <td>74950.000000</td>\n",
       "      <td>100.000000</td>\n",
       "      <td>5.000000</td>\n",
       "      <td>796.000000</td>\n",
       "      <td>3390.000000</td>\n",
       "    </tr>\n",
       "    <tr>\n",
       "      <th>std</th>\n",
       "      <td>4310.197437</td>\n",
       "      <td>4.960442</td>\n",
       "      <td>NaN</td>\n",
       "      <td>21438.609772</td>\n",
       "      <td>28.701573</td>\n",
       "      <td>0.446301</td>\n",
       "      <td>99.723310</td>\n",
       "      <td>258.017257</td>\n",
       "    </tr>\n",
       "  </tbody>\n",
       "</table>\n",
       "</div>"
      ],
      "text/plain": [
       "             user_id            age                      date_time  \\\n",
       "count  284372.000000  284372.000000                         284372   \n",
       "mean     7456.357388      34.441988  2023-10-23 20:11:52.854613504   \n",
       "min         1.000000      14.000000            2023-09-20 00:04:18   \n",
       "25%      3732.000000      31.000000            2023-10-06 17:30:01   \n",
       "50%      7473.000000      34.000000            2023-10-22 11:39:34   \n",
       "75%     11155.000000      38.000000            2023-11-10 05:39:27   \n",
       "max     15000.000000      58.000000            2023-11-28 23:57:06   \n",
       "std      4310.197437       4.960442                            NaN   \n",
       "\n",
       "         purchase_id        good_id         amount  price_per_unit  \\\n",
       "count  284372.000000  284372.000000  284372.000000   284372.000000   \n",
       "mean    36253.423055      51.029845       1.182156      504.041076   \n",
       "min         2.000000       1.000000       1.000000      299.000000   \n",
       "25%     17824.000000      27.000000       1.000000      432.000000   \n",
       "50%     34769.500000      51.000000       1.000000      495.000000   \n",
       "75%     54879.000000      75.000000       1.000000      574.000000   \n",
       "max     74950.000000     100.000000       5.000000      796.000000   \n",
       "std     21438.609772      28.701573       0.446301       99.723310   \n",
       "\n",
       "                cost  \n",
       "count  284372.000000  \n",
       "mean      595.911535  \n",
       "min       299.000000  \n",
       "25%       450.000000  \n",
       "50%       535.000000  \n",
       "75%       630.000000  \n",
       "max      3390.000000  \n",
       "std       258.017257  "
      ]
     },
     "execution_count": 70,
     "metadata": {},
     "output_type": "execute_result"
    }
   ],
   "source": [
    "df.describe()"
   ]
  },
  {
   "cell_type": "code",
   "execution_count": 71,
   "id": "84e6b6b1-05b1-49d3-9998-4af4ea129c25",
   "metadata": {},
   "outputs": [
    {
     "data": {
      "text/plain": [
       "<Axes: xlabel='age', ylabel='Count'>"
      ]
     },
     "execution_count": 71,
     "metadata": {},
     "output_type": "execute_result"
    },
    {
     "data": {
      "image/png": "[encoded data removed]",
      "text/plain": [
       "<Figure size 640x480 with 1 Axes>"
      ]
     },
     "metadata": {},
     "output_type": "display_data"
    }
   ],
   "source": [
    "sns.histplot(df['age'])"
   ]
  },
  {
   "cell_type": "code",
   "execution_count": 72,
   "id": "e5ea4a90-c12b-4e4b-9bd5-100af2772531",
   "metadata": {},
   "outputs": [
    {
     "data": {
      "text/plain": [
       "<Axes: xlabel='price_per_unit'>"
      ]
     },
     "execution_count": 72,
     "metadata": {},
     "output_type": "execute_result"
    },
    {
     "data": {
      "image/png": "[encoded data removed]",
      "text/plain": [
       "<Figure size 640x480 with 1 Axes>"
      ]
     },
     "metadata": {},
     "output_type": "display_data"
    }
   ],
   "source": [
    "sns.boxplot(x = df['price_per_unit'])"
   ]
  },
  {
   "cell_type": "code",
   "execution_count": 73,
   "id": "2005201d-65c5-4de1-8bf6-8b62340709c4",
   "metadata": {},
   "outputs": [
    {
     "data": {
      "text/plain": [
       "region\n",
       "Краснодарский край       87994\n",
       "Санкт-Петербург          66127\n",
       "Иркутская область        42426\n",
       "Нижегородская область    37979\n",
       "Оренбургская область     29806\n",
       "Астраханская область     14297\n",
       "Республика Адыгея         5743\n",
       "Name: count, dtype: int64"
      ]
     },
     "execution_count": 73,
     "metadata": {},
     "output_type": "execute_result"
    }
   ],
   "source": [
    "df['region'].value_counts()"
   ]
  },
  {
   "cell_type": "code",
   "execution_count": 74,
   "id": "b300486f-d05b-4ce7-a3e8-893fd4e3f07e",
   "metadata": {},
   "outputs": [
    {
     "name": "stderr",
     "output_type": "stream",
     "text": [
      "C:\\Users\\Ivan Chalov\\AppData\\Local\\Temp\\ipykernel_828\\4104576918.py:1: FutureWarning: The default of observed=False is deprecated and will be changed to True in a future version of pandas. Pass observed=False to retain current behavior or observed=True to adopt the future default and silence this warning.\n",
      "  df.groupby('good_name')['amount'].sum().sort_values(ascending = False)\n"
     ]
    },
    {
     "data": {
      "text/plain": [
       "good_name\n",
       "Авокадо-масло                      6028\n",
       "Кедровые чипсы                     5633\n",
       "Морская капуста сушёная            5438\n",
       "Лосось вяленый                     5400\n",
       "Амарантовые хлопья                 5321\n",
       "                                   ... \n",
       "Шоколадные коктейльные протеины    1078\n",
       "Чёрная рисовая мука                 878\n",
       "Органическая кокосовая мука         561\n",
       "Масло авокадо                       534\n",
       "Горький миндальный шоколад          450\n",
       "Name: amount, Length: 100, dtype: int64"
      ]
     },
     "execution_count": 74,
     "metadata": {},
     "output_type": "execute_result"
    }
   ],
   "source": [
    "df.groupby('good_name')['amount'].sum().sort_values(ascending = False)"
   ]
  },
  {
   "cell_type": "markdown",
   "id": "53ca5770-bda2-4058-909f-b310a0d991df",
   "metadata": {},
   "source": [
    "Интересно, что авокадо-масло и масло авокадо - это разные товары."
   ]
  },
  {
   "cell_type": "code",
   "execution_count": 75,
   "id": "015ca421-057e-43e4-9ee1-f49627b5f11b",
   "metadata": {},
   "outputs": [
    {
     "data": {
      "text/plain": [
       "<Axes: xlabel='cost', ylabel='Count'>"
      ]
     },
     "execution_count": 75,
     "metadata": {},
     "output_type": "execute_result"
    },
    {
     "data": {
      "image/png": "[encoded data removed]",
      "text/plain": [
       "<Figure size 640x480 with 1 Axes>"
      ]
     },
     "metadata": {},
     "output_type": "display_data"
    }
   ],
   "source": [
    "sns.histplot(df['cost'], bins = 10)"
   ]
  },
  {
   "cell_type": "code",
   "execution_count": 76,
   "id": "9a6b9604-b376-404f-93e5-9769998f2dea",
   "metadata": {},
   "outputs": [
    {
     "data": {
      "text/plain": [
       "<Axes: xlabel='date_with_out_time', ylabel='number_of_purchases'>"
      ]
     },
     "execution_count": 76,
     "metadata": {},
     "output_type": "execute_result"
    },
    {
     "data": {
      "image/png": "[encoded data removed]",
      "text/plain": [
       "<Figure size 640x480 with 1 Axes>"
      ]
     },
     "metadata": {},
     "output_type": "display_data"
    }
   ],
   "source": [
    "df['date_with_out_time'] = df['date_time'].dt.date\n",
    "aux = df.groupby('date_with_out_time', as_index = False)['purchase_id'].nunique().rename(columns={'purchase_id': 'number_of_purchases'})\n",
    "sns.lineplot(x = 'date_with_out_time', y = 'number_of_purchases', data = aux)"
   ]
  },
  {
   "cell_type": "markdown",
   "id": "6d94f5c9-8b64-4492-81df-164507da28c6",
   "metadata": {},
   "source": [
    "Видно, что график числа заказов особо не менялся"
   ]
  },
  {
   "cell_type": "code",
   "execution_count": null,
   "id": "622d1bf7-7c08-4af8-b7a9-04c6e44f3ca6",
   "metadata": {},
   "outputs": [],
   "source": []
  },
  {
   "cell_type": "markdown",
   "id": "444b399f-5fed-4554-94fd-ee686e3519b0",
   "metadata": {},
   "source": [
    "# Проверка разбиения на группы"
   ]
  },
  {
   "cell_type": "markdown",
   "id": "2e9a674a-1667-450c-8575-ff3fea3fbb62",
   "metadata": {},
   "source": [
    "## Проверка на одновременность"
   ]
  },
  {
   "cell_type": "code",
   "execution_count": 92,
   "id": "22be88ff-5fa9-415c-8144-2092a096750b",
   "metadata": {},
   "outputs": [
    {
     "data": {
      "text/plain": [
       "set()"
      ]
     },
     "execution_count": 92,
     "metadata": {},
     "output_type": "execute_result"
    }
   ],
   "source": [
    "(set(df[df['group'] == 'control']['user_id'])) & (set(df[df['group'] == 'treatment']['user_id']))"
   ]
  },
  {
   "cell_type": "markdown",
   "id": "2c4e0e4a-91ac-4573-b86a-dae8897b965d",
   "metadata": {},
   "source": [
    "Получается, что нет user_id человека, который включен одновременно в обе группы."
   ]
  },
  {
   "cell_type": "markdown",
   "id": "f53e04a1-022e-4584-b159-6621cfe5e49a",
   "metadata": {},
   "source": [
    "## SRM"
   ]
  },
  {
   "cell_type": "code",
   "execution_count": 78,
   "id": "10c03147-9c99-45d4-84f0-b48fd36704f5",
   "metadata": {
    "scrolled": true
   },
   "outputs": [
    {
     "name": "stderr",
     "output_type": "stream",
     "text": [
      "C:\\Users\\Ivan Chalov\\AppData\\Local\\Temp\\ipykernel_828\\4163480480.py:1: FutureWarning: The default of observed=False is deprecated and will be changed to True in a future version of pandas. Pass observed=False to retain current behavior or observed=True to adopt the future default and silence this warning.\n",
      "  df.groupby('group', as_index = False)['user_id'].nunique()\n"
     ]
    },
    {
     "data": {
      "text/html": [
       "<div>\n",
       "<style scoped>\n",
       "    .dataframe tbody tr th:only-of-type {\n",
       "        vertical-align: middle;\n",
       "    }\n",
       "\n",
       "    .dataframe tbody tr th {\n",
       "        vertical-align: top;\n",
       "    }\n",
       "\n",
       "    .dataframe thead th {\n",
       "        text-align: right;\n",
       "    }\n",
       "</style>\n",
       "<table border=\"1\" class=\"dataframe\">\n",
       "  <thead>\n",
       "    <tr style=\"text-align: right;\">\n",
       "      <th></th>\n",
       "      <th>group</th>\n",
       "      <th>user_id</th>\n",
       "    </tr>\n",
       "  </thead>\n",
       "  <tbody>\n",
       "    <tr>\n",
       "      <th>0</th>\n",
       "      <td>control</td>\n",
       "      <td>5920</td>\n",
       "    </tr>\n",
       "    <tr>\n",
       "      <th>1</th>\n",
       "      <td>treatment</td>\n",
       "      <td>5987</td>\n",
       "    </tr>\n",
       "  </tbody>\n",
       "</table>\n",
       "</div>"
      ],
      "text/plain": [
       "       group  user_id\n",
       "0    control     5920\n",
       "1  treatment     5987"
      ]
     },
     "execution_count": 78,
     "metadata": {},
     "output_type": "execute_result"
    }
   ],
   "source": [
    "df.groupby('group', as_index = False)['user_id'].nunique()"
   ]
  },
  {
   "cell_type": "markdown",
   "id": "220113d0-c3d7-434d-b441-1586798418ce",
   "metadata": {},
   "source": [
    "Отличие не существенное, поэтому SRM не возникает"
   ]
  },
  {
   "cell_type": "markdown",
   "id": "dcdc197e-7bdf-4b7a-a004-895fc56824ff",
   "metadata": {},
   "source": [
    "# Анализ результатов эксперимента"
   ]
  },
  {
   "cell_type": "markdown",
   "id": "bafc017b-f4c8-49d1-8899-11b53e8138e2",
   "metadata": {},
   "source": [
    "Так как эксперимент проводился с 1 октября по 14 октября, и нас интересует анализ результата эксперимента, то оставим данные только за этот период."
   ]
  },
  {
   "cell_type": "code",
   "execution_count": 79,
   "id": "03abf152-4730-4b3c-813c-97b50cfc3dd3",
   "metadata": {},
   "outputs": [
    {
     "data": {
      "text/html": [
       "<div>\n",
       "<style scoped>\n",
       "    .dataframe tbody tr th:only-of-type {\n",
       "        vertical-align: middle;\n",
       "    }\n",
       "\n",
       "    .dataframe tbody tr th {\n",
       "        vertical-align: top;\n",
       "    }\n",
       "\n",
       "    .dataframe thead th {\n",
       "        text-align: right;\n",
       "    }\n",
       "</style>\n",
       "<table border=\"1\" class=\"dataframe\">\n",
       "  <thead>\n",
       "    <tr style=\"text-align: right;\">\n",
       "      <th></th>\n",
       "      <th>user_id</th>\n",
       "      <th>gender</th>\n",
       "      <th>age</th>\n",
       "      <th>region</th>\n",
       "      <th>group</th>\n",
       "      <th>date_time</th>\n",
       "      <th>purchase_id</th>\n",
       "      <th>good_id</th>\n",
       "      <th>amount</th>\n",
       "      <th>was_in_recommended_goods</th>\n",
       "      <th>good_name</th>\n",
       "      <th>price_per_unit</th>\n",
       "      <th>cost</th>\n",
       "      <th>date_with_out_time</th>\n",
       "    </tr>\n",
       "  </thead>\n",
       "  <tbody>\n",
       "    <tr>\n",
       "      <th>0</th>\n",
       "      <td>1</td>\n",
       "      <td>Ж</td>\n",
       "      <td>23</td>\n",
       "      <td>Краснодарский край</td>\n",
       "      <td>control</td>\n",
       "      <td>2023-10-04 10:11:52</td>\n",
       "      <td>15495</td>\n",
       "      <td>34</td>\n",
       "      <td>2</td>\n",
       "      <td>False</td>\n",
       "      <td>Кишмиш-жмых</td>\n",
       "      <td>464</td>\n",
       "      <td>928</td>\n",
       "      <td>2023-10-04</td>\n",
       "    </tr>\n",
       "    <tr>\n",
       "      <th>11</th>\n",
       "      <td>2</td>\n",
       "      <td>Ж</td>\n",
       "      <td>43</td>\n",
       "      <td>Краснодарский край</td>\n",
       "      <td>treatment</td>\n",
       "      <td>2023-10-08 19:23:44</td>\n",
       "      <td>20107</td>\n",
       "      <td>6</td>\n",
       "      <td>1</td>\n",
       "      <td>True</td>\n",
       "      <td>Греческий йогурт с низким содержанием жира</td>\n",
       "      <td>426</td>\n",
       "      <td>426</td>\n",
       "      <td>2023-10-08</td>\n",
       "    </tr>\n",
       "    <tr>\n",
       "      <th>12</th>\n",
       "      <td>2</td>\n",
       "      <td>Ж</td>\n",
       "      <td>43</td>\n",
       "      <td>Краснодарский край</td>\n",
       "      <td>treatment</td>\n",
       "      <td>2023-10-08 19:23:44</td>\n",
       "      <td>20107</td>\n",
       "      <td>17</td>\n",
       "      <td>1</td>\n",
       "      <td>False</td>\n",
       "      <td>Бобовые чипсы</td>\n",
       "      <td>539</td>\n",
       "      <td>539</td>\n",
       "      <td>2023-10-08</td>\n",
       "    </tr>\n",
       "    <tr>\n",
       "      <th>13</th>\n",
       "      <td>2</td>\n",
       "      <td>Ж</td>\n",
       "      <td>43</td>\n",
       "      <td>Краснодарский край</td>\n",
       "      <td>treatment</td>\n",
       "      <td>2023-10-08 19:23:44</td>\n",
       "      <td>20107</td>\n",
       "      <td>36</td>\n",
       "      <td>1</td>\n",
       "      <td>True</td>\n",
       "      <td>Льняные хлопья</td>\n",
       "      <td>404</td>\n",
       "      <td>404</td>\n",
       "      <td>2023-10-08</td>\n",
       "    </tr>\n",
       "    <tr>\n",
       "      <th>14</th>\n",
       "      <td>2</td>\n",
       "      <td>Ж</td>\n",
       "      <td>43</td>\n",
       "      <td>Краснодарский край</td>\n",
       "      <td>treatment</td>\n",
       "      <td>2023-10-08 19:23:44</td>\n",
       "      <td>20107</td>\n",
       "      <td>10</td>\n",
       "      <td>2</td>\n",
       "      <td>True</td>\n",
       "      <td>Мед манука</td>\n",
       "      <td>497</td>\n",
       "      <td>994</td>\n",
       "      <td>2023-10-08</td>\n",
       "    </tr>\n",
       "  </tbody>\n",
       "</table>\n",
       "</div>"
      ],
      "text/plain": [
       "    user_id gender  age              region      group           date_time  \\\n",
       "0         1      Ж   23  Краснодарский край    control 2023-10-04 10:11:52   \n",
       "11        2      Ж   43  Краснодарский край  treatment 2023-10-08 19:23:44   \n",
       "12        2      Ж   43  Краснодарский край  treatment 2023-10-08 19:23:44   \n",
       "13        2      Ж   43  Краснодарский край  treatment 2023-10-08 19:23:44   \n",
       "14        2      Ж   43  Краснодарский край  treatment 2023-10-08 19:23:44   \n",
       "\n",
       "    purchase_id  good_id  amount  was_in_recommended_goods  \\\n",
       "0         15495       34       2                     False   \n",
       "11        20107        6       1                      True   \n",
       "12        20107       17       1                     False   \n",
       "13        20107       36       1                      True   \n",
       "14        20107       10       2                      True   \n",
       "\n",
       "                                     good_name  price_per_unit  cost  \\\n",
       "0                                  Кишмиш-жмых             464   928   \n",
       "11  Греческий йогурт с низким содержанием жира             426   426   \n",
       "12                               Бобовые чипсы             539   539   \n",
       "13                              Льняные хлопья             404   404   \n",
       "14                                  Мед манука             497   994   \n",
       "\n",
       "   date_with_out_time  \n",
       "0          2023-10-04  \n",
       "11         2023-10-08  \n",
       "12         2023-10-08  \n",
       "13         2023-10-08  \n",
       "14         2023-10-08  "
      ]
     },
     "execution_count": 79,
     "metadata": {},
     "output_type": "execute_result"
    }
   ],
   "source": [
    "data = df[(df['date_time'].dt.month == 10) & (df['date_time'].dt.day >= 1) & (df['date_time'].dt.day <= 14)]\n",
    "data.head()"
   ]
  },
  {
   "cell_type": "code",
   "execution_count": 80,
   "id": "209205b9-ae25-4eac-a0d3-8cf7b98b5509",
   "metadata": {},
   "outputs": [
    {
     "name": "stderr",
     "output_type": "stream",
     "text": [
      "C:\\Users\\Ivan Chalov\\AppData\\Local\\Temp\\ipykernel_828\\2831292260.py:1: FutureWarning: The default of observed=False is deprecated and will be changed to True in a future version of pandas. Pass observed=False to retain current behavior or observed=True to adopt the future default and silence this warning.\n",
      "  aux = data.groupby(['user_id', 'group'], as_index = False)['cost'].sum()\n"
     ]
    }
   ],
   "source": [
    "aux = data.groupby(['user_id', 'group'], as_index = False)['cost'].sum()\n",
    "summary = aux[aux['cost'] != 0]\n",
    "control = summary.loc[summary['group'] == 'control', 'cost']\n",
    "treat = summary.loc[summary['group'] == 'treatment', 'cost']"
   ]
  },
  {
   "cell_type": "markdown",
   "id": "451b5697-c4f7-473c-b46a-50e3101ea002",
   "metadata": {},
   "source": [
    "Возможно, что есть пользователи, которые не сделали ни одной покупки в период эксперимента. Поэтому они были не учтены и нужно добавить 0 в control и treat"
   ]
  },
  {
   "cell_type": "code",
   "execution_count": 81,
   "id": "72da29b2-9e82-4c38-9d29-4d47d03ac651",
   "metadata": {},
   "outputs": [
    {
     "data": {
      "text/plain": [
       "5925"
      ]
     },
     "execution_count": 81,
     "metadata": {},
     "output_type": "execute_result"
    }
   ],
   "source": [
    "user_ab_group[user_ab_group['group'] == 'control'].shape[0]"
   ]
  },
  {
   "cell_type": "code",
   "execution_count": 82,
   "id": "ce458d02-8e11-41b4-9b3c-f01b64378212",
   "metadata": {},
   "outputs": [
    {
     "data": {
      "text/plain": [
       "4269"
      ]
     },
     "execution_count": 82,
     "metadata": {},
     "output_type": "execute_result"
    }
   ],
   "source": [
    "control.shape[0]"
   ]
  },
  {
   "cell_type": "code",
   "execution_count": 83,
   "id": "fe6cea94-fed6-4615-9a4d-2f463a112ee8",
   "metadata": {},
   "outputs": [],
   "source": [
    "control = list(control) + [0] * (user_ab_group[user_ab_group['group'] == 'control'].shape[0] - control.shape[0])"
   ]
  },
  {
   "cell_type": "code",
   "execution_count": 84,
   "id": "09e19bab-e795-4d56-bfff-e4856d88d206",
   "metadata": {},
   "outputs": [
    {
     "data": {
      "text/plain": [
       "5990"
      ]
     },
     "execution_count": 84,
     "metadata": {},
     "output_type": "execute_result"
    }
   ],
   "source": [
    "user_ab_group[user_ab_group['group'] == 'treatment'].shape[0]"
   ]
  },
  {
   "cell_type": "code",
   "execution_count": 85,
   "id": "767539b2-e735-4a30-98e7-b55133d0a3d2",
   "metadata": {},
   "outputs": [
    {
     "data": {
      "text/plain": [
       "4309"
      ]
     },
     "execution_count": 85,
     "metadata": {},
     "output_type": "execute_result"
    }
   ],
   "source": [
    "treat.shape[0]"
   ]
  },
  {
   "cell_type": "code",
   "execution_count": 86,
   "id": "9beb8a8b-b2a8-46b3-bc44-2223784599a3",
   "metadata": {},
   "outputs": [],
   "source": [
    "treat = list(treat) + [0] * (user_ab_group[user_ab_group['group'] == 'treatment'].shape[0] - treat.shape[0])"
   ]
  },
  {
   "cell_type": "code",
   "execution_count": 87,
   "id": "ea0ab6e8-df84-4643-abd1-3ede40ceb70f",
   "metadata": {},
   "outputs": [
    {
     "data": {
      "text/plain": [
       "<Axes: ylabel='Count'>"
      ]
     },
     "execution_count": 87,
     "metadata": {},
     "output_type": "execute_result"
    },
    {
     "data": {
      "image/png": "[encoded data removed]",
      "text/plain": [
       "<Figure size 640x480 with 1 Axes>"
      ]
     },
     "metadata": {},
     "output_type": "display_data"
    }
   ],
   "source": [
    "sns.histplot(control, binwidth = 600)\n",
    "sns.histplot(treat, binwidth = 600)"
   ]
  },
  {
   "cell_type": "code",
   "execution_count": 88,
   "id": "33f9ed34-12b8-4fef-a782-912b65d25d68",
   "metadata": {},
   "outputs": [
    {
     "data": {
      "text/plain": [
       "LeveneResult(statistic=773.1844635858525, pvalue=6.30352090593839e-165)"
      ]
     },
     "execution_count": 88,
     "metadata": {},
     "output_type": "execute_result"
    }
   ],
   "source": [
    "levene(control, treat)"
   ]
  },
  {
   "cell_type": "markdown",
   "id": "08893f5c-4ba4-4bd5-8caa-d3528b28ce0c",
   "metadata": {},
   "source": [
    "Так как pvalue < 0.01, то отклоняем нулевую гипотезу. По результатам теста дисперсии в генеральных совокупностях отличаются."
   ]
  },
  {
   "cell_type": "code",
   "execution_count": 89,
   "id": "50189efe-5ddb-44f3-9dd8-4a79615af61a",
   "metadata": {},
   "outputs": [
    {
     "data": {
      "text/plain": [
       "TtestResult(statistic=-24.233967540582896, pvalue=3.363478798853414e-126, df=10232.906892414547)"
      ]
     },
     "execution_count": 89,
     "metadata": {},
     "output_type": "execute_result"
    }
   ],
   "source": [
    "ttest_ind(control, treat, equal_var = False) #equal_var отвечает за равество дисперсий в генеральных совокупностях"
   ]
  },
  {
   "cell_type": "markdown",
   "id": "d7992cf4-c580-4259-90fe-a4869dfac4c1",
   "metadata": {},
   "source": [
    "Так как pvalue < 0.01, то отклоняем нулевую гипотезу. По результатам теста средние генеральных совокупностей различаются. Так как значение статистики отрицательно, то среднее значение больше в экспериментальной группе."
   ]
  },
  {
   "cell_type": "markdown",
   "id": "6d53d070-a9fa-4eba-90ca-a230fe19eae2",
   "metadata": {},
   "source": [
    "Итак, с новым алгоритмом клиент в среднем тратит больше, и выручка магазина увеличится. "
   ]
  },
  {
   "cell_type": "markdown",
   "id": "48381f6a-1094-4b01-8b25-4e074ed09599",
   "metadata": {},
   "source": [
    "# Интерпретация результатов эксперимента"
   ]
  },
  {
   "cell_type": "markdown",
   "id": "8718f776-4fce-45a1-a062-9ea8924c7501",
   "metadata": {},
   "source": [
    "За счет чего получилось увеличить выручку? \n",
    "\n",
    "- клиенты стали больше добавлять товаров в корзину\n",
    "\n",
    "- увеличилось число заказов\n",
    "\n",
    "Как уже было показано выше (этап знакомства с данными) число заказов существенно не менялось в период эксперимента. Скорее всего клиенты стали больше добавлять товаров в корзину, и возможно это были рекомендованные товары."
   ]
  },
  {
   "cell_type": "code",
   "execution_count": 90,
   "id": "8de4d307-7eb8-45cc-add8-0daf4868a747",
   "metadata": {},
   "outputs": [
    {
     "data": {
      "text/plain": [
       "<Axes: xlabel='date_time', ylabel='Count'>"
      ]
     },
     "execution_count": 90,
     "metadata": {},
     "output_type": "execute_result"
    },
    {
     "data": {
      "image/png": "[encoded data removed]",
      "text/plain": [
       "<Figure size 640x480 with 1 Axes>"
      ]
     },
     "metadata": {},
     "output_type": "display_data"
    }
   ],
   "source": [
    "sns.histplot(df['date_time'])"
   ]
  },
  {
   "cell_type": "code",
   "execution_count": 91,
   "id": "e1e49327-6ea2-42c9-835c-0efcfabdb984",
   "metadata": {},
   "outputs": [
    {
     "data": {
      "image/png": "[encoded data removed]",
      "text/plain": [
       "<Figure size 1345.74x500 with 2 Axes>"
      ]
     },
     "metadata": {},
     "output_type": "display_data"
    }
   ],
   "source": [
    "# Создаем фасетную сетку\n",
    "g = sns.FacetGrid(df, col='group', height=5, aspect=1.2)  \n",
    "g.map_dataframe(sns.histplot, \n",
    "               x='date_time', \n",
    "               hue='was_in_recommended_goods',\n",
    "               multiple='stack',\n",
    "               palette={True: 'red', False: 'lightgray'})\n",
    "\n",
    "g.set_axis_labels('Дата', 'Число позиций')\n",
    "g.add_legend(title='Рекомендованные')\n",
    "plt.show()"
   ]
  },
  {
   "cell_type": "markdown",
   "id": "345cb55b-6e72-4866-858c-4bf6ea9d851e",
   "metadata": {},
   "source": [
    "Как видим в период эксперимента оказалось больше рекомендованных товаров, чем обычно."
   ]
  }
 ],
 "metadata": {
  "kernelspec": {
   "display_name": "Python 3",
   "language": "python",
   "name": "python3"
  },
  "language_info": {
   "codemirror_mode": {
    "name": "ipython",
    "version": 3
   },
   "file_extension": ".py",
   "mimetype": "text/x-python",
   "name": "python",
   "nbconvert_exporter": "python",
   "pygments_lexer": "ipython3",
   "version": "3.11.0"
  }
 },
 "nbformat": 4,
 "nbformat_minor": 5
}
